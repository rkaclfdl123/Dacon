{
  "nbformat": 4,
  "nbformat_minor": 0,
  "metadata": {
    "colab": {
      "name": "와인 품질 예측.ipynb",
      "provenance": [],
      "authorship_tag": "ABX9TyNjpydJsGQCvjhTjq9YpZe/",
      "include_colab_link": true
    },
    "kernelspec": {
      "name": "python3",
      "display_name": "Python 3"
    },
    "language_info": {
      "name": "python"
    }
  },
  "cells": [
    {
      "cell_type": "markdown",
      "metadata": {
        "id": "view-in-github",
        "colab_type": "text"
      },
      "source": [
        "<a href=\"https://colab.research.google.com/github/rkaclfdl123/Dacon/blob/master/%EC%99%80%EC%9D%B8_%ED%92%88%EC%A7%88_%EC%98%88%EC%B8%A1.ipynb\" target=\"_parent\"><img src=\"https://colab.research.google.com/assets/colab-badge.svg\" alt=\"Open In Colab\"/></a>"
      ]
    },
    {
      "cell_type": "code",
      "metadata": {
        "id": "AfR92RXbQZUy"
      },
      "source": [
        "# 메모리 변수 모두 제거\n",
        "all = [var for var in globals() if var[0] != \"_\"]\n",
        "for var in all:\n",
        "    del globals()[var]"
      ],
      "execution_count": null,
      "outputs": []
    },
    {
      "cell_type": "code",
      "metadata": {
        "id": "zmIsUuCRRQQj"
      },
      "source": [
        "import pandas as pd\n",
        "wine1=pd.read_csv('/content/wine1_1.csv')\n",
        "\n",
        "# from glob import glob\n",
        "# glob('*')"
      ],
      "execution_count": null,
      "outputs": []
    },
    {
      "cell_type": "code",
      "metadata": {
        "id": "ZcMZXxLl1c4J"
      },
      "source": [
        "wine2=pd.read_csv('wine2.csv',sep='\\t')\n"
      ],
      "execution_count": null,
      "outputs": []
    },
    {
      "cell_type": "code",
      "metadata": {
        "colab": {
          "base_uri": "https://localhost:8080/",
          "height": 419
        },
        "id": "QbumjEwxzC7j",
        "outputId": "bdd728b5-0ccb-4d59-dcc3-97bb478514cc"
      },
      "source": [
        "wine1"
      ],
      "execution_count": null,
      "outputs": [
        {
          "output_type": "execute_result",
          "data": {
            "text/html": [
              "<div>\n",
              "<style scoped>\n",
              "    .dataframe tbody tr th:only-of-type {\n",
              "        vertical-align: middle;\n",
              "    }\n",
              "\n",
              "    .dataframe tbody tr th {\n",
              "        vertical-align: top;\n",
              "    }\n",
              "\n",
              "    .dataframe thead th {\n",
              "        text-align: right;\n",
              "    }\n",
              "</style>\n",
              "<table border=\"1\" class=\"dataframe\">\n",
              "  <thead>\n",
              "    <tr style=\"text-align: right;\">\n",
              "      <th></th>\n",
              "      <th>index</th>\n",
              "      <th>alcohol</th>\n",
              "      <th>class</th>\n",
              "    </tr>\n",
              "  </thead>\n",
              "  <tbody>\n",
              "    <tr>\n",
              "      <th>0</th>\n",
              "      <td>7001</td>\n",
              "      <td>9.90</td>\n",
              "      <td>999.0</td>\n",
              "    </tr>\n",
              "    <tr>\n",
              "      <th>1</th>\n",
              "      <td>1</td>\n",
              "      <td>9.40</td>\n",
              "      <td>0.0</td>\n",
              "    </tr>\n",
              "    <tr>\n",
              "      <th>2</th>\n",
              "      <td>2</td>\n",
              "      <td>9.80</td>\n",
              "      <td>0.0</td>\n",
              "    </tr>\n",
              "    <tr>\n",
              "      <th>3</th>\n",
              "      <td>3</td>\n",
              "      <td>9.99</td>\n",
              "      <td>999.0</td>\n",
              "    </tr>\n",
              "    <tr>\n",
              "      <th>4</th>\n",
              "      <td>6498</td>\n",
              "      <td>9.80</td>\n",
              "      <td>0.0</td>\n",
              "    </tr>\n",
              "    <tr>\n",
              "      <th>...</th>\n",
              "      <td>...</td>\n",
              "      <td>...</td>\n",
              "      <td>...</td>\n",
              "    </tr>\n",
              "    <tr>\n",
              "      <th>6495</th>\n",
              "      <td>6493</td>\n",
              "      <td>11.20</td>\n",
              "      <td>1.0</td>\n",
              "    </tr>\n",
              "    <tr>\n",
              "      <th>6496</th>\n",
              "      <td>6494</td>\n",
              "      <td>9.60</td>\n",
              "      <td>1.0</td>\n",
              "    </tr>\n",
              "    <tr>\n",
              "      <th>6497</th>\n",
              "      <td>6495</td>\n",
              "      <td>9.40</td>\n",
              "      <td>1.0</td>\n",
              "    </tr>\n",
              "    <tr>\n",
              "      <th>6498</th>\n",
              "      <td>6496</td>\n",
              "      <td>12.80</td>\n",
              "      <td>1.0</td>\n",
              "    </tr>\n",
              "    <tr>\n",
              "      <th>6499</th>\n",
              "      <td>6497</td>\n",
              "      <td>11.80</td>\n",
              "      <td>1.0</td>\n",
              "    </tr>\n",
              "  </tbody>\n",
              "</table>\n",
              "<p>6500 rows × 3 columns</p>\n",
              "</div>"
            ],
            "text/plain": [
              "      index  alcohol  class\n",
              "0      7001     9.90  999.0\n",
              "1         1     9.40    0.0\n",
              "2         2     9.80    0.0\n",
              "3         3     9.99  999.0\n",
              "4      6498     9.80    0.0\n",
              "...     ...      ...    ...\n",
              "6495   6493    11.20    1.0\n",
              "6496   6494     9.60    1.0\n",
              "6497   6495     9.40    1.0\n",
              "6498   6496    12.80    1.0\n",
              "6499   6497    11.80    1.0\n",
              "\n",
              "[6500 rows x 3 columns]"
            ]
          },
          "metadata": {},
          "execution_count": 23
        }
      ]
    },
    {
      "cell_type": "code",
      "metadata": {
        "colab": {
          "base_uri": "https://localhost:8080/",
          "height": 419
        },
        "id": "_ig69CfO1X53",
        "outputId": "2a1c58c4-3baf-4cb2-eff8-b8251cec977c"
      },
      "source": [
        "wine2"
      ],
      "execution_count": null,
      "outputs": [
        {
          "output_type": "execute_result",
          "data": {
            "text/html": [
              "<div>\n",
              "<style scoped>\n",
              "    .dataframe tbody tr th:only-of-type {\n",
              "        vertical-align: middle;\n",
              "    }\n",
              "\n",
              "    .dataframe tbody tr th {\n",
              "        vertical-align: top;\n",
              "    }\n",
              "\n",
              "    .dataframe thead th {\n",
              "        text-align: right;\n",
              "    }\n",
              "</style>\n",
              "<table border=\"1\" class=\"dataframe\">\n",
              "  <thead>\n",
              "    <tr style=\"text-align: right;\">\n",
              "      <th></th>\n",
              "      <th>index</th>\n",
              "      <th>sugar_PH</th>\n",
              "    </tr>\n",
              "  </thead>\n",
              "  <tbody>\n",
              "    <tr>\n",
              "      <th>0</th>\n",
              "      <td>7000</td>\n",
              "      <td>2.3/3.5</td>\n",
              "    </tr>\n",
              "    <tr>\n",
              "      <th>1</th>\n",
              "      <td>1</td>\n",
              "      <td>1.9/3.51</td>\n",
              "    </tr>\n",
              "    <tr>\n",
              "      <th>2</th>\n",
              "      <td>2</td>\n",
              "      <td>2.6/3.2</td>\n",
              "    </tr>\n",
              "    <tr>\n",
              "      <th>3</th>\n",
              "      <td>6498</td>\n",
              "      <td>2.3/3.26</td>\n",
              "    </tr>\n",
              "    <tr>\n",
              "      <th>4</th>\n",
              "      <td>4</td>\n",
              "      <td>1.9/3.16</td>\n",
              "    </tr>\n",
              "    <tr>\n",
              "      <th>...</th>\n",
              "      <td>...</td>\n",
              "      <td>...</td>\n",
              "    </tr>\n",
              "    <tr>\n",
              "      <th>6493</th>\n",
              "      <td>6493</td>\n",
              "      <td>1.6/3.27</td>\n",
              "    </tr>\n",
              "    <tr>\n",
              "      <th>6494</th>\n",
              "      <td>6494</td>\n",
              "      <td>8/3.15</td>\n",
              "    </tr>\n",
              "    <tr>\n",
              "      <th>6495</th>\n",
              "      <td>6495</td>\n",
              "      <td>1.2/2.99</td>\n",
              "    </tr>\n",
              "    <tr>\n",
              "      <th>6496</th>\n",
              "      <td>6496</td>\n",
              "      <td>1.1/3.34</td>\n",
              "    </tr>\n",
              "    <tr>\n",
              "      <th>6497</th>\n",
              "      <td>6497</td>\n",
              "      <td>0.8/3.26</td>\n",
              "    </tr>\n",
              "  </tbody>\n",
              "</table>\n",
              "<p>6498 rows × 2 columns</p>\n",
              "</div>"
            ],
            "text/plain": [
              "      index  sugar_PH\n",
              "0      7000   2.3/3.5\n",
              "1         1  1.9/3.51\n",
              "2         2   2.6/3.2\n",
              "3      6498  2.3/3.26\n",
              "4         4  1.9/3.16\n",
              "...     ...       ...\n",
              "6493   6493  1.6/3.27\n",
              "6494   6494    8/3.15\n",
              "6495   6495  1.2/2.99\n",
              "6496   6496  1.1/3.34\n",
              "6497   6497  0.8/3.26\n",
              "\n",
              "[6498 rows x 2 columns]"
            ]
          },
          "metadata": {},
          "execution_count": 32
        }
      ]
    },
    {
      "cell_type": "code",
      "metadata": {
        "colab": {
          "base_uri": "https://localhost:8080/"
        },
        "id": "SuEPSMCWhXwX",
        "outputId": "3ed1cc8b-733b-4440-f7e6-75c49a91e71e"
      },
      "source": [
        "intersection_idx = list(set(wine1['index']).intersection(wine2['index']))\n",
        "\n",
        "\n",
        "# 교집합에 존재하는 데이터만 불러오기\n",
        "wine = wine1.loc[\n",
        "    wine1['index'].apply(lambda x: x in intersection_idx)].copy()\n",
        "\n",
        "wine = wine.sort_values(by = 'index').reset_index(drop=True) \n",
        "wine['class'].min(), wine['class'].max()\n",
        "\n",
        "print(wine.info())\n",
        "#print(wine.head(20))"
      ],
      "execution_count": null,
      "outputs": [
        {
          "output_type": "stream",
          "name": "stdout",
          "text": [
            "<class 'pandas.core.frame.DataFrame'>\n",
            "RangeIndex: 6497 entries, 0 to 6496\n",
            "Data columns (total 3 columns):\n",
            " #   Column   Non-Null Count  Dtype  \n",
            "---  ------   --------------  -----  \n",
            " 0   index    6497 non-null   int64  \n",
            " 1   alcohol  6497 non-null   float64\n",
            " 2   class    6493 non-null   float64\n",
            "dtypes: float64(2), int64(1)\n",
            "memory usage: 152.4 KB\n",
            "None\n"
          ]
        }
      ]
    },
    {
      "cell_type": "code",
      "metadata": {
        "id": "13sjQEmD2Iqo"
      },
      "source": [
        "df=pd.merge(wine1,wine2)\n"
      ],
      "execution_count": null,
      "outputs": []
    },
    {
      "cell_type": "code",
      "metadata": {
        "colab": {
          "base_uri": "https://localhost:8080/",
          "height": 204
        },
        "id": "HOqk1mjW2Jvl",
        "outputId": "aa7b8e70-9608-43d9-a0ce-5192245def81"
      },
      "source": [
        "display(df.head())\n",
        "\n"
      ],
      "execution_count": null,
      "outputs": [
        {
          "output_type": "display_data",
          "data": {
            "text/html": [
              "<div>\n",
              "<style scoped>\n",
              "    .dataframe tbody tr th:only-of-type {\n",
              "        vertical-align: middle;\n",
              "    }\n",
              "\n",
              "    .dataframe tbody tr th {\n",
              "        vertical-align: top;\n",
              "    }\n",
              "\n",
              "    .dataframe thead th {\n",
              "        text-align: right;\n",
              "    }\n",
              "</style>\n",
              "<table border=\"1\" class=\"dataframe\">\n",
              "  <thead>\n",
              "    <tr style=\"text-align: right;\">\n",
              "      <th></th>\n",
              "      <th>alcohol</th>\n",
              "      <th>class</th>\n",
              "      <th>sugar</th>\n",
              "      <th>PH</th>\n",
              "    </tr>\n",
              "  </thead>\n",
              "  <tbody>\n",
              "    <tr>\n",
              "      <th>0</th>\n",
              "      <td>9.4</td>\n",
              "      <td>0.0</td>\n",
              "      <td>1.9</td>\n",
              "      <td>3.51</td>\n",
              "    </tr>\n",
              "    <tr>\n",
              "      <th>1</th>\n",
              "      <td>9.8</td>\n",
              "      <td>0.0</td>\n",
              "      <td>2.6</td>\n",
              "      <td>3.20</td>\n",
              "    </tr>\n",
              "    <tr>\n",
              "      <th>2</th>\n",
              "      <td>9.8</td>\n",
              "      <td>0.0</td>\n",
              "      <td>2.3</td>\n",
              "      <td>3.26</td>\n",
              "    </tr>\n",
              "    <tr>\n",
              "      <th>3</th>\n",
              "      <td>9.8</td>\n",
              "      <td>0.0</td>\n",
              "      <td>1.9</td>\n",
              "      <td>3.16</td>\n",
              "    </tr>\n",
              "    <tr>\n",
              "      <th>4</th>\n",
              "      <td>9.4</td>\n",
              "      <td>0.0</td>\n",
              "      <td>1.9</td>\n",
              "      <td>3.51</td>\n",
              "    </tr>\n",
              "  </tbody>\n",
              "</table>\n",
              "</div>"
            ],
            "text/plain": [
              "   alcohol  class  sugar    PH\n",
              "0      9.4    0.0    1.9  3.51\n",
              "1      9.8    0.0    2.6  3.20\n",
              "2      9.8    0.0    2.3  3.26\n",
              "3      9.8    0.0    1.9  3.16\n",
              "4      9.4    0.0    1.9  3.51"
            ]
          },
          "metadata": {}
        }
      ]
    },
    {
      "cell_type": "code",
      "metadata": {
        "id": "8Vh7GBYX2Jz0"
      },
      "source": [
        "# 필드분할, 파이썬 컴프리헨션(압축기법)\n",
        "df['sugar']=[x.split('/')[0] if pd.notnull(x) else x for x in df['sugar_PH']]\n",
        "df['PH']=[x.split('/')[1] if pd.notnull(x) else x for x in df['sugar_PH']]\n"
      ],
      "execution_count": null,
      "outputs": []
    },
    {
      "cell_type": "code",
      "metadata": {
        "id": "nXZhd30j2J15"
      },
      "source": [
        "# 필드제거\n",
        "df=df.drop(['index','sugar_PH'],axis=1)\n",
        "\n"
      ],
      "execution_count": null,
      "outputs": []
    },
    {
      "cell_type": "code",
      "metadata": {
        "colab": {
          "base_uri": "https://localhost:8080/"
        },
        "id": "5111RTGA2J39",
        "outputId": "95c99e33-5a6b-4c42-b3ad-3091b5269ce5"
      },
      "source": [
        "# 숫자자료인데 object로 되어 있는 자료 float64로 형 변환\n",
        "col=['sugar','PH']\n",
        "for x in col:\n",
        "    df[x]=df[x].astype('float64')\n",
        "df.info()\n"
      ],
      "execution_count": null,
      "outputs": [
        {
          "output_type": "stream",
          "name": "stdout",
          "text": [
            "<class 'pandas.core.frame.DataFrame'>\n",
            "Int64Index: 6497 entries, 0 to 6496\n",
            "Data columns (total 4 columns):\n",
            " #   Column   Non-Null Count  Dtype  \n",
            "---  ------   --------------  -----  \n",
            " 0   alcohol  6497 non-null   float64\n",
            " 1   class    6493 non-null   float64\n",
            " 2   sugar    6497 non-null   float64\n",
            " 3   PH       6497 non-null   float64\n",
            "dtypes: float64(4)\n",
            "memory usage: 253.8 KB\n"
          ]
        }
      ]
    },
    {
      "cell_type": "code",
      "metadata": {
        "colab": {
          "base_uri": "https://localhost:8080/"
        },
        "id": "Yc74jWOPhfbc",
        "outputId": "ce9f81a7-40b0-4675-da58-56bafddc78f8"
      },
      "source": [
        "# 방법3\n",
        "\n",
        "dfTmp=pd.merge(wine1,wine2)\n",
        "mainList=[]\n",
        "\n",
        "for i in dfTmp['sugar_PH']:\n",
        "  List=[]\n",
        "  for j in i.split('/'):\n",
        "    List.append(j)\n",
        "  mainList.append(List)\n",
        "print(mainList[:10])\n",
        "\n",
        "\n",
        "\n",
        "import numpy as np\n",
        "dfTmp['sugar']=np.array(mainList)[:,0]  # [:,0] 모든행, 0번열\n",
        "dfTmp['PH']=np.array(mainList)[:,1]     # [:,1] 모든행, 1번열"
      ],
      "execution_count": null,
      "outputs": [
        {
          "output_type": "stream",
          "name": "stdout",
          "text": [
            "[['1.9', '3.51'], ['2.6', '3.2'], ['2.3', '3.26'], ['1.9', '3.16'], ['1.9', '3.51'], ['1.8', '3.51'], ['1.6', '3.3'], ['1.2', '3.39'], ['2', '3.36'], ['6.1', '3.35']]\n"
          ]
        }
      ]
    },
    {
      "cell_type": "code",
      "metadata": {
        "colab": {
          "base_uri": "https://localhost:8080/"
        },
        "id": "Vl2A-iDzhjVp",
        "outputId": "963aea93-a0e5-43de-8445-5ddc59ce717f"
      },
      "source": [
        "col=['sugar','PH']\n",
        "for x in col:\n",
        "    df[x]=df[x].astype('float64')\n",
        "df.info()"
      ],
      "execution_count": null,
      "outputs": [
        {
          "output_type": "stream",
          "name": "stdout",
          "text": [
            "<class 'pandas.core.frame.DataFrame'>\n",
            "Int64Index: 6497 entries, 0 to 6496\n",
            "Data columns (total 4 columns):\n",
            " #   Column   Non-Null Count  Dtype  \n",
            "---  ------   --------------  -----  \n",
            " 0   alcohol  6497 non-null   float64\n",
            " 1   class    6497 non-null   float64\n",
            " 2   sugar    6497 non-null   float64\n",
            " 3   PH       6497 non-null   float64\n",
            "dtypes: float64(4)\n",
            "memory usage: 253.8 KB\n"
          ]
        }
      ]
    },
    {
      "cell_type": "code",
      "metadata": {
        "id": "yvxMPbCUhotp"
      },
      "source": [
        "# 또는 col의 속성값이 object인자료를 찾아서 변경하여 주세요.\n",
        "for x in df.columns:\n",
        "    if df[x].dtype=='object':\n",
        "        df[x]=df[x].astype('float64')"
      ],
      "execution_count": null,
      "outputs": []
    },
    {
      "cell_type": "code",
      "metadata": {
        "id": "y9rJ-EXDhqWq",
        "colab": {
          "base_uri": "https://localhost:8080/"
        },
        "outputId": "544dedca-aeb8-470e-c6f2-149320d3b99b"
      },
      "source": [
        "import time\n",
        "start=time.time()\n",
        "\n",
        "for x in df.columns:\n",
        "    if df[x].dtype=='object':\n",
        "        df[x]=df[x].astype('float64')\n",
        "\n",
        "print(time.time()-start)"
      ],
      "execution_count": null,
      "outputs": [
        {
          "output_type": "stream",
          "name": "stdout",
          "text": [
            "0.0002884864807128906\n"
          ]
        }
      ]
    },
    {
      "cell_type": "code",
      "metadata": {
        "id": "Mw95-Y8ghqYo",
        "colab": {
          "base_uri": "https://localhost:8080/"
        },
        "outputId": "f1b7ab83-fe1c-4f93-b1ec-e2d8a64f4832"
      },
      "source": [
        "import time\n",
        "start=time.time()\n",
        "\n",
        "[df[x].astype('float64') if df[x].dtype=='object' else x for x in df.columns]\n",
        "[df[x].astype('float64') for x in df.columns  if df[x].dtype=='object']\n",
        "\n",
        "print(time.time()-start)"
      ],
      "execution_count": null,
      "outputs": [
        {
          "output_type": "stream",
          "name": "stdout",
          "text": [
            "0.0011055469512939453\n"
          ]
        }
      ]
    },
    {
      "cell_type": "code",
      "metadata": {
        "id": "hi7nfKblhqba",
        "colab": {
          "base_uri": "https://localhost:8080/"
        },
        "outputId": "9359e77d-7c78-41d5-ffff-bac31d65de10"
      },
      "source": [
        "import time\n",
        "start=time.time()\n",
        "\n",
        "## 방법1 : 사용자가 변수를 직접 지정하고 일일이 명령어를 작업\n",
        "df['sugar']=df['sugar'].astype('float64')\n",
        "df['PH']=df['PH'].astype('float64')\n",
        "\n",
        "\n",
        "\n",
        "## 방법2: 공통된 기능을 수행하는 변수명을 모아서 for로 반복함. 또는 사용자정의 함수 작성해도 됨\n",
        "col=['sugar','PH']\n",
        "for x in col:\n",
        "    df[x]=df[x].astype('float64')\n",
        "df.info()\n",
        "\n",
        "\n",
        "## 방법3: 만약에 숫자로 되어 있는 object 관련 모든 변수를 숫자로 변형한다면 아래와 같이 작업\n",
        "for x in df.columns:\n",
        "    if df[x].dtype=='object':\n",
        "        df[x]=df[x].astype('float64')\n",
        "\n",
        "        \n",
        "## 방법4: 방법3을 압축한 형식\n",
        "[df[x].astype('float64') if df[x].dtype=='object' else x for x in df.columns]   # 방법4-1\n",
        "[df[x].astype('float64') for x in df.columns  if df[x].dtype=='object']         # 방법4-2\n",
        "\n",
        "\n",
        "# 방법5: 모두 바꾼다\n",
        "df.astype('float64')\n",
        "\n",
        "print(time.time()-start)"
      ],
      "execution_count": null,
      "outputs": [
        {
          "output_type": "stream",
          "name": "stdout",
          "text": [
            "<class 'pandas.core.frame.DataFrame'>\n",
            "Int64Index: 6497 entries, 0 to 6496\n",
            "Data columns (total 4 columns):\n",
            " #   Column   Non-Null Count  Dtype  \n",
            "---  ------   --------------  -----  \n",
            " 0   alcohol  6497 non-null   float64\n",
            " 1   class    6497 non-null   float64\n",
            " 2   sugar    6497 non-null   float64\n",
            " 3   PH       6497 non-null   float64\n",
            "dtypes: float64(4)\n",
            "memory usage: 253.8 KB\n",
            "0.015384435653686523\n"
          ]
        }
      ]
    },
    {
      "cell_type": "code",
      "metadata": {
        "id": "7vWDT3vJhqny",
        "colab": {
          "base_uri": "https://localhost:8080/"
        },
        "outputId": "f3d0c1aa-dea4-44e7-d898-1f8821af4987"
      },
      "source": [
        "import time\n",
        "start=time.time()\n",
        "\n",
        "## class의 결측치를 0으로 치환하고자 함.\n",
        "numerics = ['int16', 'int32', 'int64', 'float16', 'float32', 'float64']\n",
        "\n",
        "#  모든 숫자변수의 결측치를 0으로 채우기\n",
        "df[df.select_dtypes(include=numerics).columns] =df[df.select_dtypes(include=numerics).columns].fillna(0)\n",
        "\n",
        "print(time.time()-start)"
      ],
      "execution_count": null,
      "outputs": [
        {
          "output_type": "stream",
          "name": "stdout",
          "text": [
            "0.004378557205200195\n"
          ]
        }
      ]
    },
    {
      "cell_type": "code",
      "metadata": {
        "id": "PLfpcMWEhv33"
      },
      "source": [
        ""
      ],
      "execution_count": null,
      "outputs": []
    },
    {
      "cell_type": "code",
      "metadata": {
        "id": "zU619aYYhv53"
      },
      "source": [
        ""
      ],
      "execution_count": null,
      "outputs": []
    },
    {
      "cell_type": "code",
      "metadata": {
        "id": "Vq1YCcpMhv8l"
      },
      "source": [
        ""
      ],
      "execution_count": null,
      "outputs": []
    },
    {
      "cell_type": "code",
      "metadata": {
        "id": "s8uYoB9Nhv-r"
      },
      "source": [
        ""
      ],
      "execution_count": null,
      "outputs": []
    },
    {
      "cell_type": "code",
      "metadata": {
        "id": "x5qaDRd9hwAz"
      },
      "source": [
        ""
      ],
      "execution_count": null,
      "outputs": []
    },
    {
      "cell_type": "code",
      "metadata": {
        "id": "uFI0FcanhwC9"
      },
      "source": [
        ""
      ],
      "execution_count": null,
      "outputs": []
    },
    {
      "cell_type": "code",
      "metadata": {
        "id": "PaselpaV2J6W"
      },
      "source": [
        "# NUll값 채움\n",
        "## class의 결측치를 0으로 치환하고자 함.\n",
        "numerics = ['int16', 'int32', 'int64', 'float16', 'float32', 'float64']\n",
        "\n"
      ],
      "execution_count": null,
      "outputs": []
    },
    {
      "cell_type": "code",
      "metadata": {
        "colab": {
          "base_uri": "https://localhost:8080/"
        },
        "id": "qUsVADut2J8T",
        "outputId": "51b389f4-07ab-423c-f23f-54c3bb64c1d9"
      },
      "source": [
        "#  모든 숫자변수의 결측치를 0으로 채우기\n",
        "df[df.select_dtypes(include=numerics).columns] =df[df.select_dtypes(include=numerics).columns].fillna(0)\n",
        "df.isna().sum()\n"
      ],
      "execution_count": null,
      "outputs": [
        {
          "output_type": "execute_result",
          "data": {
            "text/plain": [
              "alcohol    0\n",
              "class      0\n",
              "sugar      0\n",
              "PH         0\n",
              "dtype: int64"
            ]
          },
          "metadata": {},
          "execution_count": 40
        }
      ]
    },
    {
      "cell_type": "code",
      "metadata": {
        "colab": {
          "base_uri": "https://localhost:8080/"
        },
        "id": "P6mr2qEA6mXh",
        "outputId": "6b979861-8ca5-4c5b-b62a-bda27dda9335"
      },
      "source": [
        "df.info()\n",
        "\n",
        "X_data = df[['alcohol', 'sugar', 'PH']].to_numpy()\n",
        "y_data = df['class'].to_numpy()"
      ],
      "execution_count": null,
      "outputs": [
        {
          "output_type": "stream",
          "name": "stdout",
          "text": [
            "<class 'pandas.core.frame.DataFrame'>\n",
            "Int64Index: 6497 entries, 0 to 6496\n",
            "Data columns (total 4 columns):\n",
            " #   Column   Non-Null Count  Dtype  \n",
            "---  ------   --------------  -----  \n",
            " 0   alcohol  6497 non-null   float64\n",
            " 1   class    6497 non-null   float64\n",
            " 2   sugar    6497 non-null   float64\n",
            " 3   PH       6497 non-null   float64\n",
            "dtypes: float64(4)\n",
            "memory usage: 253.8 KB\n"
          ]
        }
      ]
    },
    {
      "cell_type": "code",
      "metadata": {
        "colab": {
          "base_uri": "https://localhost:8080/"
        },
        "id": "i1qL6os562mK",
        "outputId": "f15c22e2-d221-4ed4-b6b5-1c182b93e178"
      },
      "source": [
        "X_data"
      ],
      "execution_count": null,
      "outputs": [
        {
          "output_type": "execute_result",
          "data": {
            "text/plain": [
              "array([[ 9.4 ,  1.9 ,  3.51],\n",
              "       [ 9.8 ,  2.6 ,  3.2 ],\n",
              "       [ 9.8 ,  2.3 ,  3.26],\n",
              "       ...,\n",
              "       [ 9.4 ,  1.2 ,  2.99],\n",
              "       [12.8 ,  1.1 ,  3.34],\n",
              "       [11.8 ,  0.8 ,  3.26]])"
            ]
          },
          "metadata": {},
          "execution_count": 50
        }
      ]
    },
    {
      "cell_type": "code",
      "metadata": {
        "colab": {
          "base_uri": "https://localhost:8080/"
        },
        "id": "-88IOK-Z63vQ",
        "outputId": "6253bb97-e4a2-4f9d-a20f-9ec1f1b19b07"
      },
      "source": [
        "y_data"
      ],
      "execution_count": null,
      "outputs": [
        {
          "output_type": "execute_result",
          "data": {
            "text/plain": [
              "array([0., 0., 0., ..., 1., 1., 1.])"
            ]
          },
          "metadata": {},
          "execution_count": 51
        }
      ]
    },
    {
      "cell_type": "code",
      "metadata": {
        "id": "IIxe61Qt2ane"
      },
      "source": [
        "# [미션] x,y 데이터 분할\n",
        "# class만 레이블(y값)으로 변환\n",
        "# 그외는 특징값(X값임)"
      ],
      "execution_count": null,
      "outputs": []
    },
    {
      "cell_type": "code",
      "metadata": {
        "colab": {
          "base_uri": "https://localhost:8080/"
        },
        "id": "QOch4hBN2asA",
        "outputId": "d4968175-a639-43b9-ab2e-b456065a8ef3"
      },
      "source": [
        "# [미션] 데이터 분할\n",
        "# train_x, test_X, train_y, test_y로 분할 30%\n",
        "from sklearn.linear_model import LogisticRegression\n",
        "from sklearn.model_selection import train_test_split\n",
        "from sklearn.metrics import confusion_matrix\n",
        "from sklearn.preprocessing import StandardScaler\n",
        "from sklearn.metrics import accuracy_score,precision_score,recall_score,roc_auc_score, roc_curve\n",
        "\n",
        "\n",
        "train_x, test_x ,train_y, test_y = train_test_split(X_data, y_data, test_size=0.3,random_state=1)\n",
        "print(train_x.shape, test_x.shape, train_y.shape, test_y.shape)\n"
      ],
      "execution_count": null,
      "outputs": [
        {
          "output_type": "stream",
          "name": "stdout",
          "text": [
            "(4547, 3) (1950, 3) (4547,) (1950,)\n"
          ]
        }
      ]
    },
    {
      "cell_type": "code",
      "metadata": {
        "colab": {
          "base_uri": "https://localhost:8080/",
          "height": 256
        },
        "id": "tAXJjM4G2avq",
        "outputId": "cc487344-ab78-4f9b-a0a5-568ede2122d7"
      },
      "source": [
        "## 참고 예측\n",
        "# 새로운 new_X값도스케일링 하고 예측해야함.\n",
        "# alcohol, sugar, PH값이\n",
        "\n",
        "# new_X는 사용자가 웹에서 직접 입력할수도 있고, csv자료일수도 있고, 크롤링으로 얻어온 자료일수도 있고\n",
        "# 또는 이미지 또는 사운드의 내용일수도 있음.\n",
        "\n",
        "# 이 작업은 보통, 위에 있는 작업을 모두 피클링 또는 dump해서 객체화 시켜서 갖고 있게됨.\n",
        "\n",
        "# 또는 머신러닝에서도 모델값만 갖고 있게 됨.\n",
        "# 또는 딥러닝 같은경우는 모델값만 갖고 있게됨\n",
        "import numpy as np\n",
        "new_XX= np.array([\n",
        "    [15, 30, 1.08]\n",
        "])\n",
        "\n",
        "from sklearn.linear_model import LogisticRegression # 만약 위의 내용이 없다면 꼭 해야함.\n",
        "from sklearn.preprocessing import StandardScaler   # 만약 위의 내용이 없다면 꼭 해야함.\n",
        "scaler = StandardScaler()  # 만약 위의 내용이 없다면 꼭 해야함.\n",
        "scaler.fit(new_X)          # 만약 위의 내용이 없다면 꼭 해야함. \n",
        "\n",
        "newX_scaled = scaler.transform(new_XX)\n",
        "y_hat = lr.predict(newX_scaled)\n",
        "\n",
        "print(int(y_hat[0]))\n",
        "#이 자료의 class가 1이면 화이트 화인/0이면 레드와인\n",
        "classLabel=['red wine','wihte wine']\n",
        "print(classLabel[int(y_hat[0])])\n",
        "\n",
        "# \n",
        "확률=lr.predict_proba(new_XX)   # 출력물이 [0.,1.]  1이될확률이 1이예요. [0.2,0.8]은 1이될확률이 0.8이예요\n",
        "classLabel[np.argmax(확률)]  # [0,1]은 1번째 값이 가장 큼. 즉 가장 큰값의 index가 나옴\n"
      ],
      "execution_count": null,
      "outputs": [
        {
          "output_type": "error",
          "ename": "NameError",
          "evalue": "ignored",
          "traceback": [
            "\u001b[0;31m---------------------------------------------------------------------------\u001b[0m",
            "\u001b[0;31mNameError\u001b[0m                                 Traceback (most recent call last)",
            "\u001b[0;32m<ipython-input-55-e1c56bebd156>\u001b[0m in \u001b[0;36m<module>\u001b[0;34m()\u001b[0m\n\u001b[1;32m     21\u001b[0m \u001b[0;34m\u001b[0m\u001b[0m\n\u001b[1;32m     22\u001b[0m \u001b[0mnewX_scaled\u001b[0m \u001b[0;34m=\u001b[0m \u001b[0mscaler\u001b[0m\u001b[0;34m.\u001b[0m\u001b[0mtransform\u001b[0m\u001b[0;34m(\u001b[0m\u001b[0mnew_XX\u001b[0m\u001b[0;34m)\u001b[0m\u001b[0;34m\u001b[0m\u001b[0;34m\u001b[0m\u001b[0m\n\u001b[0;32m---> 23\u001b[0;31m \u001b[0my_hat\u001b[0m \u001b[0;34m=\u001b[0m \u001b[0mlr\u001b[0m\u001b[0;34m.\u001b[0m\u001b[0mpredict\u001b[0m\u001b[0;34m(\u001b[0m\u001b[0mnewX_scaled\u001b[0m\u001b[0;34m)\u001b[0m\u001b[0;34m\u001b[0m\u001b[0;34m\u001b[0m\u001b[0m\n\u001b[0m\u001b[1;32m     24\u001b[0m \u001b[0;34m\u001b[0m\u001b[0m\n\u001b[1;32m     25\u001b[0m \u001b[0mprint\u001b[0m\u001b[0;34m(\u001b[0m\u001b[0mint\u001b[0m\u001b[0;34m(\u001b[0m\u001b[0my_hat\u001b[0m\u001b[0;34m[\u001b[0m\u001b[0;36m0\u001b[0m\u001b[0;34m]\u001b[0m\u001b[0;34m)\u001b[0m\u001b[0;34m)\u001b[0m\u001b[0;34m\u001b[0m\u001b[0;34m\u001b[0m\u001b[0m\n",
            "\u001b[0;31mNameError\u001b[0m: name 'lr' is not defined"
          ]
        }
      ]
    },
    {
      "cell_type": "code",
      "metadata": {
        "id": "UXnORVUK2ax7"
      },
      "source": [
        ""
      ],
      "execution_count": null,
      "outputs": []
    },
    {
      "cell_type": "code",
      "metadata": {
        "id": "4B_Oqp1Q2a0B"
      },
      "source": [
        ""
      ],
      "execution_count": null,
      "outputs": []
    },
    {
      "cell_type": "code",
      "metadata": {
        "id": "gS-uoKWL2a2S"
      },
      "source": [
        ""
      ],
      "execution_count": null,
      "outputs": []
    },
    {
      "cell_type": "code",
      "metadata": {
        "colab": {
          "base_uri": "https://localhost:8080/",
          "height": 256
        },
        "id": "lwh4slp52a5C",
        "outputId": "e13ca78a-b87e-47c8-b910-1542e8b969b2"
      },
      "source": [
        "import warnings\n",
        "warnings.filterwarnings(action='ignore')\n",
        "\n",
        "\n",
        "import matplotlib.pyplot as plt\n",
        "sns.heatmap(cm, annot = True, fmt = 'd',cmap = 'Reds')\n",
        "plt.xlabel('실제값')\n",
        "plt.ylabel('예측값')\n",
        "plt.xticks([0.5,1.5],['0(N)', '1(P)'])\n",
        "plt.yticks([0.5,1.5],['0(N)', '1(P)'])\n",
        "plt.show()\n",
        "# cm\n",
        "# 측값(P)'])\n"
      ],
      "execution_count": null,
      "outputs": [
        {
          "output_type": "error",
          "ename": "NameError",
          "evalue": "ignored",
          "traceback": [
            "\u001b[0;31m---------------------------------------------------------------------------\u001b[0m",
            "\u001b[0;31mNameError\u001b[0m                                 Traceback (most recent call last)",
            "\u001b[0;32m<ipython-input-57-5e7864ed96e7>\u001b[0m in \u001b[0;36m<module>\u001b[0;34m()\u001b[0m\n\u001b[1;32m      4\u001b[0m \u001b[0;34m\u001b[0m\u001b[0m\n\u001b[1;32m      5\u001b[0m \u001b[0;32mimport\u001b[0m \u001b[0mmatplotlib\u001b[0m\u001b[0;34m.\u001b[0m\u001b[0mpyplot\u001b[0m \u001b[0;32mas\u001b[0m \u001b[0mplt\u001b[0m\u001b[0;34m\u001b[0m\u001b[0;34m\u001b[0m\u001b[0m\n\u001b[0;32m----> 6\u001b[0;31m \u001b[0msns\u001b[0m\u001b[0;34m.\u001b[0m\u001b[0mheatmap\u001b[0m\u001b[0;34m(\u001b[0m\u001b[0mcm\u001b[0m\u001b[0;34m,\u001b[0m \u001b[0mannot\u001b[0m \u001b[0;34m=\u001b[0m \u001b[0;32mTrue\u001b[0m\u001b[0;34m,\u001b[0m \u001b[0mfmt\u001b[0m \u001b[0;34m=\u001b[0m \u001b[0;34m'd'\u001b[0m\u001b[0;34m,\u001b[0m\u001b[0mcmap\u001b[0m \u001b[0;34m=\u001b[0m \u001b[0;34m'Reds'\u001b[0m\u001b[0;34m)\u001b[0m\u001b[0;34m\u001b[0m\u001b[0;34m\u001b[0m\u001b[0m\n\u001b[0m\u001b[1;32m      7\u001b[0m \u001b[0mplt\u001b[0m\u001b[0;34m.\u001b[0m\u001b[0mxlabel\u001b[0m\u001b[0;34m(\u001b[0m\u001b[0;34m'실제값'\u001b[0m\u001b[0;34m)\u001b[0m\u001b[0;34m\u001b[0m\u001b[0;34m\u001b[0m\u001b[0m\n\u001b[1;32m      8\u001b[0m \u001b[0mplt\u001b[0m\u001b[0;34m.\u001b[0m\u001b[0mylabel\u001b[0m\u001b[0;34m(\u001b[0m\u001b[0;34m'예측값'\u001b[0m\u001b[0;34m)\u001b[0m\u001b[0;34m\u001b[0m\u001b[0;34m\u001b[0m\u001b[0m\n",
            "\u001b[0;31mNameError\u001b[0m: name 'cm' is not defined"
          ]
        }
      ]
    },
    {
      "cell_type": "code",
      "metadata": {
        "id": "QVRMoO_u2a6r"
      },
      "source": [
        "## 재현율을 높여봅니다.\n",
        "# predict_proba 분류결정 예측 확률을 반환\n",
        "\n",
        "pred_proba = lr.predict_proba(test_scaled)\n",
        "pred  = lr.predict(test_scaled)\n",
        "print('pred_proba()결과 Shape : {0}'.format(pred_proba.shape))\n",
        "print('pred_proba array에서 앞 3개만 샘플로 추출 \\n:', pred_proba[:3])\n",
        "\n",
        "# 예측 확률 array 와 예측 결과값 array 를 concatenate 하여 예측 확률과 결과값을 한눈에 확인\n",
        "pred_proba_result = np.concatenate([pred_proba , pred.reshape(-1,1)],axis=1)\n",
        "print('두개의 class 중에서 더 큰 확률을 클래스 값으로 예측 \\n',pred_proba_result[:3])\n"
      ],
      "execution_count": null,
      "outputs": []
    },
    {
      "cell_type": "code",
      "metadata": {
        "id": "gNwOKMpP2a8x"
      },
      "source": [
        "### 코드\n",
        "def get_clf_eval(y_test , pred):\n",
        "    confusion = confusion_matrix(y_test, pred)\n",
        "    precision = precision_score(y_test , pred)\n",
        "    recall = recall_score(y_test , pred)\n",
        "    print('오차 행렬')\n",
        "    print(confusion)\n",
        "    print(' 정밀도: {0:.4f}, 재현율: {1:.4f}'.format(precision ,recall))\n",
        "    \n",
        "    # 리포트 출력\n",
        "    #cm=confusion_matrix(test_y, lr.predict(test_scaled))\n",
        "import confusion_matrix\n"
      ],
      "execution_count": null,
      "outputs": []
    },
    {
      "cell_type": "code",
      "metadata": {
        "id": "m5pWG-JZ2a-9"
      },
      "source": [
        ""
      ],
      "execution_count": null,
      "outputs": []
    },
    {
      "cell_type": "code",
      "metadata": {
        "id": "Hkl_Chpu2bBL"
      },
      "source": [
        ""
      ],
      "execution_count": null,
      "outputs": []
    },
    {
      "cell_type": "code",
      "metadata": {
        "id": "7ytbATBN2bD5"
      },
      "source": [
        ""
      ],
      "execution_count": null,
      "outputs": []
    },
    {
      "cell_type": "code",
      "metadata": {
        "id": "ioMXDzlU2bFs"
      },
      "source": [
        ""
      ],
      "execution_count": null,
      "outputs": []
    },
    {
      "cell_type": "code",
      "metadata": {
        "id": "704Ycqsf2bJv"
      },
      "source": [
        ""
      ],
      "execution_count": null,
      "outputs": []
    },
    {
      "cell_type": "code",
      "metadata": {
        "id": "1HWio9C02bME"
      },
      "source": [
        ""
      ],
      "execution_count": null,
      "outputs": []
    },
    {
      "cell_type": "code",
      "metadata": {
        "id": "m_gzRD2N2bOa"
      },
      "source": [
        ""
      ],
      "execution_count": null,
      "outputs": []
    },
    {
      "cell_type": "code",
      "metadata": {
        "id": "EzaX-YQv2bQr"
      },
      "source": [
        ""
      ],
      "execution_count": null,
      "outputs": []
    },
    {
      "cell_type": "code",
      "metadata": {
        "id": "TZewYdmz2bTC"
      },
      "source": [
        ""
      ],
      "execution_count": null,
      "outputs": []
    },
    {
      "cell_type": "code",
      "metadata": {
        "id": "80xu9Xlt2bVU"
      },
      "source": [
        ""
      ],
      "execution_count": null,
      "outputs": []
    },
    {
      "cell_type": "code",
      "metadata": {
        "id": "1VCjyDz42bXa"
      },
      "source": [
        ""
      ],
      "execution_count": null,
      "outputs": []
    },
    {
      "cell_type": "code",
      "metadata": {
        "id": "mQJpm0n52bZf"
      },
      "source": [
        ""
      ],
      "execution_count": null,
      "outputs": []
    },
    {
      "cell_type": "code",
      "metadata": {
        "id": "WphufQog2bb-"
      },
      "source": [
        ""
      ],
      "execution_count": null,
      "outputs": []
    },
    {
      "cell_type": "code",
      "metadata": {
        "id": "vtdgIO7u2beg"
      },
      "source": [
        ""
      ],
      "execution_count": null,
      "outputs": []
    },
    {
      "cell_type": "code",
      "metadata": {
        "id": "C7lb0Khq2bgg"
      },
      "source": [
        ""
      ],
      "execution_count": null,
      "outputs": []
    },
    {
      "cell_type": "code",
      "metadata": {
        "id": "TEp1_ZrJ2bik"
      },
      "source": [
        ""
      ],
      "execution_count": null,
      "outputs": []
    },
    {
      "cell_type": "code",
      "metadata": {
        "id": "TB45lDLD2bkx"
      },
      "source": [
        ""
      ],
      "execution_count": null,
      "outputs": []
    },
    {
      "cell_type": "code",
      "metadata": {
        "id": "xpmGKfuwRQSs",
        "colab": {
          "base_uri": "https://localhost:8080/",
          "height": 627
        },
        "outputId": "c219cf4a-d2e1-4f0b-d8fa-f7b05a820194"
      },
      "source": [
        "# 새로운 인덱스의 교집합\n",
        "\n",
        "intersection_idx = list(set(wine1['index']).intersection(wine2['index']))\n",
        "\n",
        "\n",
        "# 교집합에 존재하는 데이터만 불러오기\n",
        "wine = wine1.loc[\n",
        "    wine1['index'].apply(lambda x: x in intersection_idx)].copy()\n",
        "\n",
        "wine = wine.sort_values(by = 'index').reset_index(drop=True) \n",
        "wine['class'].min(), wine['class'].max()\n",
        "\n",
        "print(wine.info())\n",
        "print(wine.head(20))\n",
        "성\n",
        "#######################################\n",
        "\n",
        "\n",
        "## merge 로 두데이터 조인\n",
        "df=pd.merge(wine, wine2)\n",
        "\n",
        "\n",
        "# 파이썬 컴프리헨션(압축기법)\n",
        "df['sugar']=[x.split('/')[0] if pd.notnull(x) else x for x in tmp['sugar_PH']]\n",
        "\n",
        "df['sugar'] = df['sugar_PH'].apply(\n",
        "    lambda x: x.split('/')[0] if pd.notnull(x) else x)\n",
        "\n",
        "df['PH'] = df['sugar_PH'].apply(\n",
        "    lambda x: x.split('/')[1] if pd.notnull(x) else x)\n",
        "\n",
        "df.isna().sum()\n"
      ],
      "execution_count": null,
      "outputs": [
        {
          "output_type": "error",
          "ename": "KeyError",
          "evalue": "ignored",
          "traceback": [
            "\u001b[0;31m---------------------------------------------------------------------------\u001b[0m",
            "\u001b[0;31mKeyError\u001b[0m                                  Traceback (most recent call last)",
            "\u001b[0;32m/usr/local/lib/python3.7/dist-packages/pandas/core/indexes/base.py\u001b[0m in \u001b[0;36mget_loc\u001b[0;34m(self, key, method, tolerance)\u001b[0m\n\u001b[1;32m   2897\u001b[0m             \u001b[0;32mtry\u001b[0m\u001b[0;34m:\u001b[0m\u001b[0;34m\u001b[0m\u001b[0;34m\u001b[0m\u001b[0m\n\u001b[0;32m-> 2898\u001b[0;31m                 \u001b[0;32mreturn\u001b[0m \u001b[0mself\u001b[0m\u001b[0;34m.\u001b[0m\u001b[0m_engine\u001b[0m\u001b[0;34m.\u001b[0m\u001b[0mget_loc\u001b[0m\u001b[0;34m(\u001b[0m\u001b[0mcasted_key\u001b[0m\u001b[0;34m)\u001b[0m\u001b[0;34m\u001b[0m\u001b[0;34m\u001b[0m\u001b[0m\n\u001b[0m\u001b[1;32m   2899\u001b[0m             \u001b[0;32mexcept\u001b[0m \u001b[0mKeyError\u001b[0m \u001b[0;32mas\u001b[0m \u001b[0merr\u001b[0m\u001b[0;34m:\u001b[0m\u001b[0;34m\u001b[0m\u001b[0;34m\u001b[0m\u001b[0m\n",
            "\u001b[0;32mpandas/_libs/index.pyx\u001b[0m in \u001b[0;36mpandas._libs.index.IndexEngine.get_loc\u001b[0;34m()\u001b[0m\n",
            "\u001b[0;32mpandas/_libs/index.pyx\u001b[0m in \u001b[0;36mpandas._libs.index.IndexEngine.get_loc\u001b[0;34m()\u001b[0m\n",
            "\u001b[0;32mpandas/_libs/hashtable_class_helper.pxi\u001b[0m in \u001b[0;36mpandas._libs.hashtable.PyObjectHashTable.get_item\u001b[0;34m()\u001b[0m\n",
            "\u001b[0;32mpandas/_libs/hashtable_class_helper.pxi\u001b[0m in \u001b[0;36mpandas._libs.hashtable.PyObjectHashTable.get_item\u001b[0;34m()\u001b[0m\n",
            "\u001b[0;31mKeyError\u001b[0m: 'index'",
            "\nThe above exception was the direct cause of the following exception:\n",
            "\u001b[0;31mKeyError\u001b[0m                                  Traceback (most recent call last)",
            "\u001b[0;32m<ipython-input-14-0c0d3d871682>\u001b[0m in \u001b[0;36m<module>\u001b[0;34m()\u001b[0m\n\u001b[1;32m      1\u001b[0m \u001b[0;31m# 새로운 인덱스의 교집합\u001b[0m\u001b[0;34m\u001b[0m\u001b[0;34m\u001b[0m\u001b[0;34m\u001b[0m\u001b[0m\n\u001b[1;32m      2\u001b[0m \u001b[0;34m\u001b[0m\u001b[0m\n\u001b[0;32m----> 3\u001b[0;31m \u001b[0mintersection_idx\u001b[0m \u001b[0;34m=\u001b[0m \u001b[0mlist\u001b[0m\u001b[0;34m(\u001b[0m\u001b[0mset\u001b[0m\u001b[0;34m(\u001b[0m\u001b[0mwine1\u001b[0m\u001b[0;34m[\u001b[0m\u001b[0;34m'index'\u001b[0m\u001b[0;34m]\u001b[0m\u001b[0;34m)\u001b[0m\u001b[0;34m.\u001b[0m\u001b[0mintersection\u001b[0m\u001b[0;34m(\u001b[0m\u001b[0mwine2\u001b[0m\u001b[0;34m[\u001b[0m\u001b[0;34m'index'\u001b[0m\u001b[0;34m]\u001b[0m\u001b[0;34m)\u001b[0m\u001b[0;34m)\u001b[0m\u001b[0;34m\u001b[0m\u001b[0;34m\u001b[0m\u001b[0m\n\u001b[0m\u001b[1;32m      4\u001b[0m \u001b[0;34m\u001b[0m\u001b[0m\n\u001b[1;32m      5\u001b[0m \u001b[0;34m\u001b[0m\u001b[0m\n",
            "\u001b[0;32m/usr/local/lib/python3.7/dist-packages/pandas/core/frame.py\u001b[0m in \u001b[0;36m__getitem__\u001b[0;34m(self, key)\u001b[0m\n\u001b[1;32m   2904\u001b[0m             \u001b[0;32mif\u001b[0m \u001b[0mself\u001b[0m\u001b[0;34m.\u001b[0m\u001b[0mcolumns\u001b[0m\u001b[0;34m.\u001b[0m\u001b[0mnlevels\u001b[0m \u001b[0;34m>\u001b[0m \u001b[0;36m1\u001b[0m\u001b[0;34m:\u001b[0m\u001b[0;34m\u001b[0m\u001b[0;34m\u001b[0m\u001b[0m\n\u001b[1;32m   2905\u001b[0m                 \u001b[0;32mreturn\u001b[0m \u001b[0mself\u001b[0m\u001b[0;34m.\u001b[0m\u001b[0m_getitem_multilevel\u001b[0m\u001b[0;34m(\u001b[0m\u001b[0mkey\u001b[0m\u001b[0;34m)\u001b[0m\u001b[0;34m\u001b[0m\u001b[0;34m\u001b[0m\u001b[0m\n\u001b[0;32m-> 2906\u001b[0;31m             \u001b[0mindexer\u001b[0m \u001b[0;34m=\u001b[0m \u001b[0mself\u001b[0m\u001b[0;34m.\u001b[0m\u001b[0mcolumns\u001b[0m\u001b[0;34m.\u001b[0m\u001b[0mget_loc\u001b[0m\u001b[0;34m(\u001b[0m\u001b[0mkey\u001b[0m\u001b[0;34m)\u001b[0m\u001b[0;34m\u001b[0m\u001b[0;34m\u001b[0m\u001b[0m\n\u001b[0m\u001b[1;32m   2907\u001b[0m             \u001b[0;32mif\u001b[0m \u001b[0mis_integer\u001b[0m\u001b[0;34m(\u001b[0m\u001b[0mindexer\u001b[0m\u001b[0;34m)\u001b[0m\u001b[0;34m:\u001b[0m\u001b[0;34m\u001b[0m\u001b[0;34m\u001b[0m\u001b[0m\n\u001b[1;32m   2908\u001b[0m                 \u001b[0mindexer\u001b[0m \u001b[0;34m=\u001b[0m \u001b[0;34m[\u001b[0m\u001b[0mindexer\u001b[0m\u001b[0;34m]\u001b[0m\u001b[0;34m\u001b[0m\u001b[0;34m\u001b[0m\u001b[0m\n",
            "\u001b[0;32m/usr/local/lib/python3.7/dist-packages/pandas/core/indexes/base.py\u001b[0m in \u001b[0;36mget_loc\u001b[0;34m(self, key, method, tolerance)\u001b[0m\n\u001b[1;32m   2898\u001b[0m                 \u001b[0;32mreturn\u001b[0m \u001b[0mself\u001b[0m\u001b[0;34m.\u001b[0m\u001b[0m_engine\u001b[0m\u001b[0;34m.\u001b[0m\u001b[0mget_loc\u001b[0m\u001b[0;34m(\u001b[0m\u001b[0mcasted_key\u001b[0m\u001b[0;34m)\u001b[0m\u001b[0;34m\u001b[0m\u001b[0;34m\u001b[0m\u001b[0m\n\u001b[1;32m   2899\u001b[0m             \u001b[0;32mexcept\u001b[0m \u001b[0mKeyError\u001b[0m \u001b[0;32mas\u001b[0m \u001b[0merr\u001b[0m\u001b[0;34m:\u001b[0m\u001b[0;34m\u001b[0m\u001b[0;34m\u001b[0m\u001b[0m\n\u001b[0;32m-> 2900\u001b[0;31m                 \u001b[0;32mraise\u001b[0m \u001b[0mKeyError\u001b[0m\u001b[0;34m(\u001b[0m\u001b[0mkey\u001b[0m\u001b[0;34m)\u001b[0m \u001b[0;32mfrom\u001b[0m \u001b[0merr\u001b[0m\u001b[0;34m\u001b[0m\u001b[0;34m\u001b[0m\u001b[0m\n\u001b[0m\u001b[1;32m   2901\u001b[0m \u001b[0;34m\u001b[0m\u001b[0m\n\u001b[1;32m   2902\u001b[0m         \u001b[0;32mif\u001b[0m \u001b[0mtolerance\u001b[0m \u001b[0;32mis\u001b[0m \u001b[0;32mnot\u001b[0m \u001b[0;32mNone\u001b[0m\u001b[0;34m:\u001b[0m\u001b[0;34m\u001b[0m\u001b[0;34m\u001b[0m\u001b[0m\n",
            "\u001b[0;31mKeyError\u001b[0m: 'index'"
          ]
        }
      ]
    },
    {
      "cell_type": "code",
      "metadata": {
        "id": "AflIe_XnRQXI"
      },
      "source": [
        ""
      ],
      "execution_count": null,
      "outputs": []
    },
    {
      "cell_type": "code",
      "metadata": {
        "id": "vS_QybsnRQZN"
      },
      "source": [
        ""
      ],
      "execution_count": null,
      "outputs": []
    },
    {
      "cell_type": "code",
      "metadata": {
        "id": "B0pBMHqlRQbY"
      },
      "source": [
        ""
      ],
      "execution_count": null,
      "outputs": []
    },
    {
      "cell_type": "code",
      "metadata": {
        "id": "0ykNO_enRQdW"
      },
      "source": [
        ""
      ],
      "execution_count": null,
      "outputs": []
    },
    {
      "cell_type": "code",
      "metadata": {
        "id": "T1-q1mJ6RQfk"
      },
      "source": [
        ""
      ],
      "execution_count": null,
      "outputs": []
    },
    {
      "cell_type": "code",
      "metadata": {
        "id": "ubTCpLcJRQh2"
      },
      "source": [
        ""
      ],
      "execution_count": null,
      "outputs": []
    }
  ]
}